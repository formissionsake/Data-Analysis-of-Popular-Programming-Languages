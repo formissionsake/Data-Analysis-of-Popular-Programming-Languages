{
 "cells": [
  {
   "cell_type": "code",
   "execution_count": 1,
   "metadata": {},
   "outputs": [],
   "source": [
    "import pandas as pd\n",
    "import matplotlib.pyplot as plt\n",
    "import string"
   ]
  },
  {
   "cell_type": "code",
   "execution_count": 2,
   "metadata": {},
   "outputs": [
    {
     "data": {
      "text/html": [
       "<div>\n",
       "<style scoped>\n",
       "    .dataframe tbody tr th:only-of-type {\n",
       "        vertical-align: middle;\n",
       "    }\n",
       "\n",
       "    .dataframe tbody tr th {\n",
       "        vertical-align: top;\n",
       "    }\n",
       "\n",
       "    .dataframe thead th {\n",
       "        text-align: right;\n",
       "    }\n",
       "</style>\n",
       "<table border=\"1\" class=\"dataframe\">\n",
       "  <thead>\n",
       "    <tr style=\"text-align: right;\">\n",
       "      <th></th>\n",
       "      <th>contributors</th>\n",
       "      <th>coordinates</th>\n",
       "      <th>created_at</th>\n",
       "      <th>display_text_range</th>\n",
       "      <th>entities</th>\n",
       "      <th>extended_entities</th>\n",
       "      <th>extended_tweet</th>\n",
       "      <th>favorite_count</th>\n",
       "      <th>favorited</th>\n",
       "      <th>filter_level</th>\n",
       "      <th>...</th>\n",
       "      <th>quoted_status_permalink</th>\n",
       "      <th>reply_count</th>\n",
       "      <th>retweet_count</th>\n",
       "      <th>retweeted</th>\n",
       "      <th>retweeted_status</th>\n",
       "      <th>source</th>\n",
       "      <th>text</th>\n",
       "      <th>timestamp_ms</th>\n",
       "      <th>truncated</th>\n",
       "      <th>user</th>\n",
       "    </tr>\n",
       "  </thead>\n",
       "  <tbody>\n",
       "    <tr>\n",
       "      <th>0</th>\n",
       "      <td>NaN</td>\n",
       "      <td>NaN</td>\n",
       "      <td>2018-12-09 06:55:26</td>\n",
       "      <td>NaN</td>\n",
       "      <td>{'hashtags': [], 'urls': [], 'user_mentions': ...</td>\n",
       "      <td>NaN</td>\n",
       "      <td>NaN</td>\n",
       "      <td>0</td>\n",
       "      <td>False</td>\n",
       "      <td>low</td>\n",
       "      <td>...</td>\n",
       "      <td>NaN</td>\n",
       "      <td>0</td>\n",
       "      <td>0</td>\n",
       "      <td>False</td>\n",
       "      <td>{'created_at': 'Sun Dec 09 06:34:00 +0000 2018...</td>\n",
       "      <td>&lt;a href=\"http://twitter.com/download/iphone\" r...</td>\n",
       "      <td>RT @prichan_PR: 「Pripara Friendship Tour 2019　...</td>\n",
       "      <td>2018-12-09 06:55:26.383</td>\n",
       "      <td>False</td>\n",
       "      <td>{'id': 239472833, 'id_str': '239472833', 'name...</td>\n",
       "    </tr>\n",
       "    <tr>\n",
       "      <th>1</th>\n",
       "      <td>NaN</td>\n",
       "      <td>NaN</td>\n",
       "      <td>2018-12-09 06:55:26</td>\n",
       "      <td>NaN</td>\n",
       "      <td>{'hashtags': [{'text': 'おなくら', 'indices': [103...</td>\n",
       "      <td>NaN</td>\n",
       "      <td>NaN</td>\n",
       "      <td>0</td>\n",
       "      <td>False</td>\n",
       "      <td>low</td>\n",
       "      <td>...</td>\n",
       "      <td>NaN</td>\n",
       "      <td>0</td>\n",
       "      <td>0</td>\n",
       "      <td>False</td>\n",
       "      <td>{'created_at': 'Sun Dec 09 04:17:08 +0000 2018...</td>\n",
       "      <td>&lt;a href=\"http://twitter.com\" rel=\"nofollow\"&gt;Tw...</td>\n",
       "      <td>RT @tecokishinbashi: 超清純系美少女！これぞ「王道清楚」と言わんばかりの...</td>\n",
       "      <td>2018-12-09 06:55:26.482</td>\n",
       "      <td>False</td>\n",
       "      <td>{'id': 613703379, 'id_str': '613703379', 'name...</td>\n",
       "    </tr>\n",
       "    <tr>\n",
       "      <th>2</th>\n",
       "      <td>NaN</td>\n",
       "      <td>NaN</td>\n",
       "      <td>2018-12-09 06:55:26</td>\n",
       "      <td>NaN</td>\n",
       "      <td>{'hashtags': [], 'urls': [{'url': 'https://t.c...</td>\n",
       "      <td>NaN</td>\n",
       "      <td>NaN</td>\n",
       "      <td>0</td>\n",
       "      <td>False</td>\n",
       "      <td>low</td>\n",
       "      <td>...</td>\n",
       "      <td>NaN</td>\n",
       "      <td>0</td>\n",
       "      <td>0</td>\n",
       "      <td>False</td>\n",
       "      <td>NaN</td>\n",
       "      <td>&lt;a href=\"http://www.facebook.com/twitter\" rel=...</td>\n",
       "      <td>https://t.co/bsqksr6g4E</td>\n",
       "      <td>2018-12-09 06:55:26.488</td>\n",
       "      <td>False</td>\n",
       "      <td>{'id': 1613891329, 'id_str': '1613891329', 'na...</td>\n",
       "    </tr>\n",
       "    <tr>\n",
       "      <th>3</th>\n",
       "      <td>NaN</td>\n",
       "      <td>NaN</td>\n",
       "      <td>2018-12-09 06:55:26</td>\n",
       "      <td>NaN</td>\n",
       "      <td>{'hashtags': [{'text': '렌', 'indices': [58, 60...</td>\n",
       "      <td>{'media': [{'id': 1070943006310580225, 'id_str...</td>\n",
       "      <td>NaN</td>\n",
       "      <td>0</td>\n",
       "      <td>False</td>\n",
       "      <td>low</td>\n",
       "      <td>...</td>\n",
       "      <td>NaN</td>\n",
       "      <td>0</td>\n",
       "      <td>0</td>\n",
       "      <td>False</td>\n",
       "      <td>{'created_at': 'Fri Dec 07 07:31:19 +0000 2018...</td>\n",
       "      <td>&lt;a href=\"http://twitter.com/download/android\" ...</td>\n",
       "      <td>RT @NUESTNEWS: [PHOTO] 태국 잡지 &amp;lt;SUDSAPDA&amp;gt; ...</td>\n",
       "      <td>2018-12-09 06:55:26.489</td>\n",
       "      <td>False</td>\n",
       "      <td>{'id': 867736499931893761, 'id_str': '86773649...</td>\n",
       "    </tr>\n",
       "    <tr>\n",
       "      <th>4</th>\n",
       "      <td>NaN</td>\n",
       "      <td>NaN</td>\n",
       "      <td>2018-12-09 06:55:26</td>\n",
       "      <td>NaN</td>\n",
       "      <td>{'hashtags': [{'text': 'pixiv', 'indices': [32...</td>\n",
       "      <td>NaN</td>\n",
       "      <td>NaN</td>\n",
       "      <td>0</td>\n",
       "      <td>False</td>\n",
       "      <td>low</td>\n",
       "      <td>...</td>\n",
       "      <td>NaN</td>\n",
       "      <td>0</td>\n",
       "      <td>0</td>\n",
       "      <td>False</td>\n",
       "      <td>{'created_at': 'Sun Dec 09 02:55:08 +0000 2018...</td>\n",
       "      <td>&lt;a href=\"http://twitter.com\" rel=\"nofollow\"&gt;Tw...</td>\n",
       "      <td>RT @b2j135: 特別で究極のスマブラ！！ | サムーれ #pixiv https:/...</td>\n",
       "      <td>2018-12-09 06:55:26.678</td>\n",
       "      <td>False</td>\n",
       "      <td>{'id': 3133683903, 'id_str': '3133683903', 'na...</td>\n",
       "    </tr>\n",
       "  </tbody>\n",
       "</table>\n",
       "<p>5 rows × 36 columns</p>\n",
       "</div>"
      ],
      "text/plain": [
       "   contributors  coordinates          created_at display_text_range  \\\n",
       "0           NaN          NaN 2018-12-09 06:55:26                NaN   \n",
       "1           NaN          NaN 2018-12-09 06:55:26                NaN   \n",
       "2           NaN          NaN 2018-12-09 06:55:26                NaN   \n",
       "3           NaN          NaN 2018-12-09 06:55:26                NaN   \n",
       "4           NaN          NaN 2018-12-09 06:55:26                NaN   \n",
       "\n",
       "                                            entities  \\\n",
       "0  {'hashtags': [], 'urls': [], 'user_mentions': ...   \n",
       "1  {'hashtags': [{'text': 'おなくら', 'indices': [103...   \n",
       "2  {'hashtags': [], 'urls': [{'url': 'https://t.c...   \n",
       "3  {'hashtags': [{'text': '렌', 'indices': [58, 60...   \n",
       "4  {'hashtags': [{'text': 'pixiv', 'indices': [32...   \n",
       "\n",
       "                                   extended_entities extended_tweet  \\\n",
       "0                                                NaN            NaN   \n",
       "1                                                NaN            NaN   \n",
       "2                                                NaN            NaN   \n",
       "3  {'media': [{'id': 1070943006310580225, 'id_str...            NaN   \n",
       "4                                                NaN            NaN   \n",
       "\n",
       "   favorite_count  favorited filter_level  \\\n",
       "0               0      False          low   \n",
       "1               0      False          low   \n",
       "2               0      False          low   \n",
       "3               0      False          low   \n",
       "4               0      False          low   \n",
       "\n",
       "                         ...                          quoted_status_permalink  \\\n",
       "0                        ...                                              NaN   \n",
       "1                        ...                                              NaN   \n",
       "2                        ...                                              NaN   \n",
       "3                        ...                                              NaN   \n",
       "4                        ...                                              NaN   \n",
       "\n",
       "   reply_count  retweet_count retweeted  \\\n",
       "0            0              0     False   \n",
       "1            0              0     False   \n",
       "2            0              0     False   \n",
       "3            0              0     False   \n",
       "4            0              0     False   \n",
       "\n",
       "                                    retweeted_status  \\\n",
       "0  {'created_at': 'Sun Dec 09 06:34:00 +0000 2018...   \n",
       "1  {'created_at': 'Sun Dec 09 04:17:08 +0000 2018...   \n",
       "2                                                NaN   \n",
       "3  {'created_at': 'Fri Dec 07 07:31:19 +0000 2018...   \n",
       "4  {'created_at': 'Sun Dec 09 02:55:08 +0000 2018...   \n",
       "\n",
       "                                              source  \\\n",
       "0  <a href=\"http://twitter.com/download/iphone\" r...   \n",
       "1  <a href=\"http://twitter.com\" rel=\"nofollow\">Tw...   \n",
       "2  <a href=\"http://www.facebook.com/twitter\" rel=...   \n",
       "3  <a href=\"http://twitter.com/download/android\" ...   \n",
       "4  <a href=\"http://twitter.com\" rel=\"nofollow\">Tw...   \n",
       "\n",
       "                                                text            timestamp_ms  \\\n",
       "0  RT @prichan_PR: 「Pripara Friendship Tour 2019　... 2018-12-09 06:55:26.383   \n",
       "1  RT @tecokishinbashi: 超清純系美少女！これぞ「王道清楚」と言わんばかりの... 2018-12-09 06:55:26.482   \n",
       "2                            https://t.co/bsqksr6g4E 2018-12-09 06:55:26.488   \n",
       "3  RT @NUESTNEWS: [PHOTO] 태국 잡지 &lt;SUDSAPDA&gt; ... 2018-12-09 06:55:26.489   \n",
       "4  RT @b2j135: 特別で究極のスマブラ！！ | サムーれ #pixiv https:/... 2018-12-09 06:55:26.678   \n",
       "\n",
       "   truncated                                               user  \n",
       "0      False  {'id': 239472833, 'id_str': '239472833', 'name...  \n",
       "1      False  {'id': 613703379, 'id_str': '613703379', 'name...  \n",
       "2      False  {'id': 1613891329, 'id_str': '1613891329', 'na...  \n",
       "3      False  {'id': 867736499931893761, 'id_str': '86773649...  \n",
       "4      False  {'id': 3133683903, 'id_str': '3133683903', 'na...  \n",
       "\n",
       "[5 rows x 36 columns]"
      ]
     },
     "execution_count": 2,
     "metadata": {},
     "output_type": "execute_result"
    }
   ],
   "source": [
    "dataframe = pd.read_json('tweets.json', lines=True)\n",
    "dataframe.head()"
   ]
  },
  {
   "cell_type": "code",
   "execution_count": 3,
   "metadata": {},
   "outputs": [
    {
     "data": {
      "text/plain": [
       "3021"
      ]
     },
     "execution_count": 3,
     "metadata": {},
     "output_type": "execute_result"
    }
   ],
   "source": [
    "dataframe.shape[0]"
   ]
  },
  {
   "cell_type": "code",
   "execution_count": 4,
   "metadata": {},
   "outputs": [
    {
     "data": {
      "text/html": [
       "<div>\n",
       "<style scoped>\n",
       "    .dataframe tbody tr th:only-of-type {\n",
       "        vertical-align: middle;\n",
       "    }\n",
       "\n",
       "    .dataframe tbody tr th {\n",
       "        vertical-align: top;\n",
       "    }\n",
       "\n",
       "    .dataframe thead th {\n",
       "        text-align: right;\n",
       "    }\n",
       "</style>\n",
       "<table border=\"1\" class=\"dataframe\">\n",
       "  <thead>\n",
       "    <tr style=\"text-align: right;\">\n",
       "      <th></th>\n",
       "      <th>lang</th>\n",
       "      <th>text</th>\n",
       "    </tr>\n",
       "  </thead>\n",
       "  <tbody>\n",
       "    <tr>\n",
       "      <th>0</th>\n",
       "      <td>ja</td>\n",
       "      <td>RT @prichan_PR: 「Pripara Friendship Tour 2019　...</td>\n",
       "    </tr>\n",
       "    <tr>\n",
       "      <th>1</th>\n",
       "      <td>ja</td>\n",
       "      <td>RT @tecokishinbashi: 超清純系美少女！これぞ「王道清楚」と言わんばかりの...</td>\n",
       "    </tr>\n",
       "    <tr>\n",
       "      <th>2</th>\n",
       "      <td>und</td>\n",
       "      <td>https://t.co/bsqksr6g4E</td>\n",
       "    </tr>\n",
       "    <tr>\n",
       "      <th>3</th>\n",
       "      <td>ko</td>\n",
       "      <td>RT @NUESTNEWS: [PHOTO] 태국 잡지 &amp;lt;SUDSAPDA&amp;gt; ...</td>\n",
       "    </tr>\n",
       "    <tr>\n",
       "      <th>4</th>\n",
       "      <td>ja</td>\n",
       "      <td>RT @b2j135: 特別で究極のスマブラ！！ | サムーれ #pixiv https:/...</td>\n",
       "    </tr>\n",
       "  </tbody>\n",
       "</table>\n",
       "</div>"
      ],
      "text/plain": [
       "  lang                                               text\n",
       "0   ja  RT @prichan_PR: 「Pripara Friendship Tour 2019　...\n",
       "1   ja  RT @tecokishinbashi: 超清純系美少女！これぞ「王道清楚」と言わんばかりの...\n",
       "2  und                            https://t.co/bsqksr6g4E\n",
       "3   ko  RT @NUESTNEWS: [PHOTO] 태국 잡지 &lt;SUDSAPDA&gt; ...\n",
       "4   ja  RT @b2j135: 特別で究極のスマブラ！！ | サムーれ #pixiv https:/..."
      ]
     },
     "execution_count": 4,
     "metadata": {},
     "output_type": "execute_result"
    }
   ],
   "source": [
    "df1 = dataframe[['lang', 'text']]\n",
    "df1.head()"
   ]
  },
  {
   "cell_type": "code",
   "execution_count": 7,
   "metadata": {},
   "outputs": [
    {
     "data": {
      "text/html": [
       "<div>\n",
       "<style scoped>\n",
       "    .dataframe tbody tr th:only-of-type {\n",
       "        vertical-align: middle;\n",
       "    }\n",
       "\n",
       "    .dataframe tbody tr th {\n",
       "        vertical-align: top;\n",
       "    }\n",
       "\n",
       "    .dataframe thead th {\n",
       "        text-align: right;\n",
       "    }\n",
       "</style>\n",
       "<table border=\"1\" class=\"dataframe\">\n",
       "  <thead>\n",
       "    <tr style=\"text-align: right;\">\n",
       "      <th></th>\n",
       "      <th>location</th>\n",
       "    </tr>\n",
       "  </thead>\n",
       "  <tbody>\n",
       "    <tr>\n",
       "      <th>0</th>\n",
       "      <td>彩(あや)の国</td>\n",
       "    </tr>\n",
       "    <tr>\n",
       "      <th>1</th>\n",
       "      <td>新宿歌舞伎町</td>\n",
       "    </tr>\n",
       "    <tr>\n",
       "      <th>2</th>\n",
       "      <td>Bahamas</td>\n",
       "    </tr>\n",
       "    <tr>\n",
       "      <th>3</th>\n",
       "      <td>ปทุมธานี, ประเทศไทย</td>\n",
       "    </tr>\n",
       "    <tr>\n",
       "      <th>4</th>\n",
       "      <td>Baton Rouge, LA</td>\n",
       "    </tr>\n",
       "  </tbody>\n",
       "</table>\n",
       "</div>"
      ],
      "text/plain": [
       "              location\n",
       "0              彩(あや)の国\n",
       "1               新宿歌舞伎町\n",
       "2              Bahamas\n",
       "3  ปทุมธานี, ประเทศไทย\n",
       "4      Baton Rouge, LA"
      ]
     },
     "execution_count": 7,
     "metadata": {},
     "output_type": "execute_result"
    }
   ],
   "source": [
    "locations = []\n",
    "for i in dataframe['user']:\n",
    "    location = i['location']\n",
    "    locations.append(location)\n",
    "df2 = pd.DataFrame(locations, columns = ['location'])\n",
    "df2.head()"
   ]
  },
  {
   "cell_type": "code",
   "execution_count": 8,
   "metadata": {},
   "outputs": [
    {
     "data": {
      "text/plain": [
       "'C &amp; C++ Language tutorial for beginners|C Programming Tutorial in urdu/hindi Lecture 10 by Sir Majid: https://t.co/NZeUy6kvSw via'"
      ]
     },
     "execution_count": 8,
     "metadata": {},
     "output_type": "execute_result"
    }
   ],
   "source": [
    "df = pd.concat([df1, df2], axis=1)\n",
    "df.loc[2993]['text']"
   ]
  },
  {
   "cell_type": "code",
   "execution_count": 9,
   "metadata": {},
   "outputs": [
    {
     "data": {
      "text/plain": [
       "array(['ja', 'und', 'ko', 'th', 'en', 'mr', 'ka', 'tl', 'ar', 'te', 'in',\n",
       "       'ca', 'fr', 'pt', 'ru', 'ckb', 'hi', 'nl', 'ta', 'de', 'el', 'es',\n",
       "       'eu', 'fi', 'cs', 'ht', 'ml', 'bn', 'it', 'vi', 'lv', 'hu', 'ps',\n",
       "       'tr', 'et', 'no', 'sr', 'lt', 'da', 'zh', 'sv', 'iw', 'ro', 'ur',\n",
       "       'pa', 'si', 'km', 'pl', 'uk', 'is', 'bg', 'am', 'fa', 'cy'],\n",
       "      dtype=object)"
      ]
     },
     "execution_count": 9,
     "metadata": {},
     "output_type": "execute_result"
    }
   ],
   "source": [
    "df['lang'].unique()"
   ]
  },
  {
   "cell_type": "code",
   "execution_count": 10,
   "metadata": {},
   "outputs": [
    {
     "data": {
      "text/plain": [
       "54"
      ]
     },
     "execution_count": 10,
     "metadata": {},
     "output_type": "execute_result"
    }
   ],
   "source": [
    "df['lang'].nunique()"
   ]
  },
  {
   "cell_type": "code",
   "execution_count": 11,
   "metadata": {},
   "outputs": [
    {
     "data": {
      "text/plain": [
       "Text(0, 0.5, 'Number of tweets')"
      ]
     },
     "execution_count": 11,
     "metadata": {},
     "output_type": "execute_result"
    },
    {
     "data": {
      "image/png": "[encoded data removed]",
      "text/plain": [
       "<Figure size 432x288 with 1 Axes>"
      ]
     },
     "metadata": {
      "needs_background": "light"
     },
     "output_type": "display_data"
    }
   ],
   "source": [
    "top_lang = df['lang'].value_counts()\n",
    "top5_lang = dict(top_lang[:5])\n",
    "top5_lang_hist = pd.DataFrame.from_dict(top5_lang, orient='index')\n",
    "top5_lang_hist.plot(kind='bar')\n",
    "plt.title(\"Top 5 languages\")\n",
    "plt.xlabel(\"Languages\")\n",
    "plt.ylabel(\"Number of tweets\")\n",
    "\n"
   ]
  },
  {
   "cell_type": "code",
   "execution_count": 12,
   "metadata": {},
   "outputs": [
    {
     "name": "stdout",
     "output_type": "stream",
     "text": [
      "{'日本': 23, 'Nowhere': 19, '日本 東京': 15, 'دبي جنة الدنيا ': 13, 'Thailand': 11}\n"
     ]
    },
    {
     "data": {
      "text/plain": [
       "Text(0, 0.5, 'Number of tweets')"
      ]
     },
     "execution_count": 12,
     "metadata": {},
     "output_type": "execute_result"
    },
    {
     "data": {
      "image/png": "[encoded data removed]",
      "text/plain": [
       "<Figure size 432x288 with 1 Axes>"
      ]
     },
     "metadata": {
      "needs_background": "light"
     },
     "output_type": "display_data"
    }
   ],
   "source": [
    "top_location = df['location'].value_counts()\n",
    "top5_location = dict(top_location[:5])\n",
    "print(top5_location)\n",
    "top5_location_hist = pd.DataFrame.from_dict(top5_location, orient='index')\n",
    "top5_location_hist.plot(kind='bar')\n",
    "plt.title('Top 5 locations')\n",
    "plt.xlabel('Locations')\n",
    "plt.ylabel('Number of tweets')"
   ]
  },
  {
   "cell_type": "code",
   "execution_count": 13,
   "metadata": {},
   "outputs": [
    {
     "data": {
      "text/plain": [
       "593"
      ]
     },
     "execution_count": 13,
     "metadata": {},
     "output_type": "execute_result"
    }
   ],
   "source": [
    "df_eng = df[df['lang'] == 'en']\n",
    "df_eng.shape[0]"
   ]
  },
  {
   "cell_type": "code",
   "execution_count": 14,
   "metadata": {},
   "outputs": [],
   "source": [
    "keywords = ['tutorial', 'programming', 'software', 'linux', \n",
    "            'winidows', 'mac os', 'data', 'dictionary']\n",
    "df_rel = df_eng[df_eng['text'].str.contains('|'.join(keywords))]"
   ]
  },
  {
   "cell_type": "code",
   "execution_count": 15,
   "metadata": {},
   "outputs": [
    {
     "data": {
      "text/plain": [
       "6"
      ]
     },
     "execution_count": 15,
     "metadata": {},
     "output_type": "execute_result"
    }
   ],
   "source": [
    "df_rel.shape[0]"
   ]
  },
  {
   "cell_type": "code",
   "execution_count": 17,
   "metadata": {},
   "outputs": [
    {
     "name": "stdout",
     "output_type": "stream",
     "text": [
      "{'python': 0, 'java': 0, 'c++': 1, 'golang': 0, 'php': 0}\n"
     ]
    },
    {
     "data": {
      "text/plain": [
       "Text(0, 0.5, 'Number of relevant tweets')"
      ]
     },
     "execution_count": 17,
     "metadata": {},
     "output_type": "execute_result"
    },
    {
     "data": {
      "image/png": "[encoded data removed]",
      "text/plain": [
       "<Figure size 432x288 with 1 Axes>"
      ]
     },
     "metadata": {
      "needs_background": "light"
     },
     "output_type": "display_data"
    }
   ],
   "source": [
    "import re\n",
    "keywords = ['python', 'java', 'c++', 'golang', 'php']\n",
    "dicts = {}\n",
    "for i in keywords:\n",
    "    df3 = df_rel[df_rel['text'].str.contains(i, regex=False, case=False)]\n",
    "    if df3.shape[0] != 0:\n",
    "        file = open(\"{0}.txt\".format(i), \"w\")\n",
    "        for tweet in df3['text']:\n",
    "            for word in tweet.split(' '):\n",
    "                if word.startswith('http://') or word.startswith('https://'):\n",
    "                    file.write(word)\n",
    "            \n",
    "    dicts[i] = df3.shape[0]    \n",
    "print(dicts)\n",
    "num_rel = pd.DataFrame.from_dict(dicts, orient='index')\n",
    "num_rel.plot(kind='bar')\n",
    "plt.title('Number of relevant tweets for each language')\n",
    "plt.xlabel('Programming languages')\n",
    "plt.ylabel('Number of relevant tweets')"
   ]
  },
  {
   "cell_type": "code",
   "execution_count": null,
   "metadata": {},
   "outputs": [],
   "source": []
  }
 ],
 "metadata": {
  "kernelspec": {
   "display_name": "Python 3",
   "language": "python",
   "name": "python3"
  },
  "language_info": {
   "codemirror_mode": {
    "name": "ipython",
    "version": 3
   },
   "file_extension": ".py",
   "mimetype": "text/x-python",
   "name": "python",
   "nbconvert_exporter": "python",
   "pygments_lexer": "ipython3",
   "version": "3.6.2"
  }
 },
 "nbformat": 4,
 "nbformat_minor": 2
}
